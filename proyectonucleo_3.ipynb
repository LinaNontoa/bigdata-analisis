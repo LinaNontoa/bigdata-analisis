{
  "nbformat": 4,
  "nbformat_minor": 0,
  "metadata": {
    "colab": {
      "provenance": [],
      "authorship_tag": "ABX9TyNgt4rx2kWFiZfeMmHd1khC",
      "include_colab_link": true
    },
    "kernelspec": {
      "name": "python3",
      "display_name": "Python 3"
    },
    "language_info": {
      "name": "python"
    }
  },
  "cells": [
    {
      "cell_type": "markdown",
      "metadata": {
        "id": "view-in-github",
        "colab_type": "text"
      },
      "source": [
        "<a href=\"https://colab.research.google.com/github/LinaNontoa/bigdata-analisis/blob/main/proyectonucleo_3.ipynb\" target=\"_parent\"><img src=\"https://colab.research.google.com/assets/colab-badge.svg\" alt=\"Open In Colab\"/></a>"
      ]
    },
    {
      "cell_type": "code",
      "execution_count": null,
      "metadata": {
        "id": "wk_Sc-VOzPIN"
      },
      "outputs": [],
      "source": [
        "#Data Streaming:\n",
        "\n",
        "#El data streamingn permite un análisis en tiempo real, escalabilidad elástica, integración con servicios en la nube y sus desventajas, requiere tecnologías específicas, problemas de ordenamiento de datos\n",
        "#algunos ejemplos son:  métricas en tiempo real, IoT, fraude, redes sociales\n",
        "\n",
        "\n",
        "#Ventaja de  los datos continuos  se pueden procesan en tiempo real en donde se puedan tomar  decisiones instantánea. Desventaja: Los datos en  tiempo real puede ser compleja en recursos.\n",
        "\n",
        "#Ventaja: de la escabailidad puede escalarse fácilmente al manejar grandes volúmenes de datos. Desventaja: Debe tener limitaciones dependiendo de la infraestructura en el sistema\n",
        "\n",
        "\n",
        "#Ventaja: Los fallos en el sistema de procesamiento suele tener mecanismos  lo que permite  garantizar la continuidad. Desventaja: La tolerancia  aumenta la complejidad\n",
        "\n",
        "\n",
        "#Ventaja: La baja latencia permite procesos rapidos, adecuado para aplicaciones  como ocurre con  el análisis de datos. Desventaja: La baja latencia puede requerir hardware aumentando  los costos.\n",
        "\n",
        "#Ventaja: Permite analizar patrones temporales y secuenciales en los datos, lo que es fundamental para aplicaciones como la predicción de series temporales. Desventaja: La complejidad del modelado temporal puede aumentar la carga computacional.\n",
        "\n",
        "#Procesamiento en Tiempo Real: Su ventaja es la capacidad de procesar y analizar los datos.\n",
        "\n",
        "#Toma de Decisiones Ágil: El procesamiento en tiempo real facilita la toma de decisiones rápidas  basadas en datos.\n",
        "\n",
        "#Detección Temprana de Problemas:  identifica patrones  de manera inmediata y permite  la detección de fraudes.\n"
      ]
    },
    {
      "cell_type": "code",
      "source": [
        "! git clone https://github.com/Gabrielifp/An-lisis-Datos.git\n"
      ],
      "metadata": {
        "colab": {
          "base_uri": "https://localhost:8080/"
        },
        "id": "9wV19DVy_hZ1",
        "outputId": "75c5c868-2b7a-4345-db33-2d0a1795f701"
      },
      "execution_count": null,
      "outputs": [
        {
          "output_type": "stream",
          "name": "stdout",
          "text": [
            "Cloning into 'An-lisis-Datos'...\n",
            "remote: Enumerating objects: 41, done.\u001b[K\n",
            "remote: Counting objects: 100% (41/41), done.\u001b[K\n",
            "remote: Compressing objects: 100% (28/28), done.\u001b[K\n",
            "remote: Total 41 (delta 4), reused 41 (delta 4), pack-reused 0\u001b[K\n",
            "Receiving objects: 100% (41/41), 11.46 MiB | 12.91 MiB/s, done.\n",
            "Resolving deltas: 100% (4/4), done.\n"
          ]
        }
      ]
    },
    {
      "cell_type": "code",
      "source": [
        "import pandas as pd"
      ],
      "metadata": {
        "id": "17vCuogOAArZ"
      },
      "execution_count": 27,
      "outputs": []
    },
    {
      "cell_type": "code",
      "source": [
        "data = pd.read_excel('/content/An-lisis-Datos/pedido_cliente_trealwell/Case Study - Project Specialist (1).xlsx')"
      ],
      "metadata": {
        "id": "lJaSn6hnAMib"
      },
      "execution_count": 29,
      "outputs": []
    },
    {
      "cell_type": "code",
      "source": [
        "data.head()"
      ],
      "metadata": {
        "colab": {
          "base_uri": "https://localhost:8080/",
          "height": 429
        },
        "id": "F76GWYDOMuHY",
        "outputId": "2d705d70-a785-42ba-f70e-232f48607e11"
      },
      "execution_count": 30,
      "outputs": [
        {
          "output_type": "execute_result",
          "data": {
            "text/plain": [
              "     id  enabled         venue_name           company_name  latitude  \\\n",
              "0   530     True  Beauty Salon 1354  Company Beauty SL1354   4182122   \n",
              "1   570     True  Beauty Salon 1770  Company Beauty SL1770    419151   \n",
              "2  5047     True  Beauty Salon 4875  Company Beauty SL4875   4547895   \n",
              "3  4530     True  Beauty Salon 4913  Company Beauty SL4913   4190835   \n",
              "4   655     True  Beauty Salon 4323  Company Beauty SL4323   4181684   \n",
              "\n",
              "   longitude    town                               formatted_address  \\\n",
              "0    1245451    Roma               Via Lione, 24, 00144 Roma, Italia   \n",
              "1     124633    Roma    Via Angelo Brofferio, 12, 00195 Roma, Italia   \n",
              "2    9176557  Milano   Via Cesare Cesariano, 6, 20154 Milano, Italia   \n",
              "3    1247793    Roma     Via di Gesù e Maria, 11, 00187 Roma, Italia   \n",
              "4     124466    Roma  Via del Pianeta Venere, 37, 00144 Roma, Italia   \n",
              "\n",
              "               created_at         phone  ...  customers_count  \\\n",
              "0 2014-04-04 21:30:32.272  390958839938  ...             9192   \n",
              "1 2015-03-18 13:18:30.895  390999059333  ...             5594   \n",
              "2 2015-05-26 15:55:30.140  390893535033  ...             5739   \n",
              "3 2015-07-26 20:19:06.437  390990838933  ...              522   \n",
              "4 2016-01-08 16:51:04.105  390990998380  ...             5647   \n",
              "\n",
              "  staff_members_count      plan  purchasable_online  accepts_online_payments  \\\n",
              "0                   8   Premium               False                     True   \n",
              "1                   6  Advanced               False                    False   \n",
              "2                   6   Starter               False                    False   \n",
              "3                   2   Starter               False                     True   \n",
              "4                   4  Advanced               False                    False   \n",
              "\n",
              "  online_payment_only  average_time_day_appointment_per_customer  \\\n",
              "0               False                                      44,46   \n",
              "1               False                                       0,44   \n",
              "2               False                                       0,42   \n",
              "3               False                                      43,19   \n",
              "4               False                                       0,42   \n",
              "\n",
              "   daily_booking_only  last_online_appointment last_salon_appointement  \n",
              "0               False               2022-12-08              2022-12-08  \n",
              "1               False               2022-12-08              2022-12-08  \n",
              "2               False               2022-12-08              2022-12-08  \n",
              "3               False               2022-12-02              2022-11-13  \n",
              "4               False               2022-12-08              2022-12-08  \n",
              "\n",
              "[5 rows x 23 columns]"
            ],
            "text/html": [
              "\n",
              "  <div id=\"df-37f7c352-cfbd-414f-bc83-abe576116a12\" class=\"colab-df-container\">\n",
              "    <div>\n",
              "<style scoped>\n",
              "    .dataframe tbody tr th:only-of-type {\n",
              "        vertical-align: middle;\n",
              "    }\n",
              "\n",
              "    .dataframe tbody tr th {\n",
              "        vertical-align: top;\n",
              "    }\n",
              "\n",
              "    .dataframe thead th {\n",
              "        text-align: right;\n",
              "    }\n",
              "</style>\n",
              "<table border=\"1\" class=\"dataframe\">\n",
              "  <thead>\n",
              "    <tr style=\"text-align: right;\">\n",
              "      <th></th>\n",
              "      <th>id</th>\n",
              "      <th>enabled</th>\n",
              "      <th>venue_name</th>\n",
              "      <th>company_name</th>\n",
              "      <th>latitude</th>\n",
              "      <th>longitude</th>\n",
              "      <th>town</th>\n",
              "      <th>formatted_address</th>\n",
              "      <th>created_at</th>\n",
              "      <th>phone</th>\n",
              "      <th>...</th>\n",
              "      <th>customers_count</th>\n",
              "      <th>staff_members_count</th>\n",
              "      <th>plan</th>\n",
              "      <th>purchasable_online</th>\n",
              "      <th>accepts_online_payments</th>\n",
              "      <th>online_payment_only</th>\n",
              "      <th>average_time_day_appointment_per_customer</th>\n",
              "      <th>daily_booking_only</th>\n",
              "      <th>last_online_appointment</th>\n",
              "      <th>last_salon_appointement</th>\n",
              "    </tr>\n",
              "  </thead>\n",
              "  <tbody>\n",
              "    <tr>\n",
              "      <th>0</th>\n",
              "      <td>530</td>\n",
              "      <td>True</td>\n",
              "      <td>Beauty Salon 1354</td>\n",
              "      <td>Company Beauty SL1354</td>\n",
              "      <td>4182122</td>\n",
              "      <td>1245451</td>\n",
              "      <td>Roma</td>\n",
              "      <td>Via Lione, 24, 00144 Roma, Italia</td>\n",
              "      <td>2014-04-04 21:30:32.272</td>\n",
              "      <td>390958839938</td>\n",
              "      <td>...</td>\n",
              "      <td>9192</td>\n",
              "      <td>8</td>\n",
              "      <td>Premium</td>\n",
              "      <td>False</td>\n",
              "      <td>True</td>\n",
              "      <td>False</td>\n",
              "      <td>44,46</td>\n",
              "      <td>False</td>\n",
              "      <td>2022-12-08</td>\n",
              "      <td>2022-12-08</td>\n",
              "    </tr>\n",
              "    <tr>\n",
              "      <th>1</th>\n",
              "      <td>570</td>\n",
              "      <td>True</td>\n",
              "      <td>Beauty Salon 1770</td>\n",
              "      <td>Company Beauty SL1770</td>\n",
              "      <td>419151</td>\n",
              "      <td>124633</td>\n",
              "      <td>Roma</td>\n",
              "      <td>Via Angelo Brofferio, 12, 00195 Roma, Italia</td>\n",
              "      <td>2015-03-18 13:18:30.895</td>\n",
              "      <td>390999059333</td>\n",
              "      <td>...</td>\n",
              "      <td>5594</td>\n",
              "      <td>6</td>\n",
              "      <td>Advanced</td>\n",
              "      <td>False</td>\n",
              "      <td>False</td>\n",
              "      <td>False</td>\n",
              "      <td>0,44</td>\n",
              "      <td>False</td>\n",
              "      <td>2022-12-08</td>\n",
              "      <td>2022-12-08</td>\n",
              "    </tr>\n",
              "    <tr>\n",
              "      <th>2</th>\n",
              "      <td>5047</td>\n",
              "      <td>True</td>\n",
              "      <td>Beauty Salon 4875</td>\n",
              "      <td>Company Beauty SL4875</td>\n",
              "      <td>4547895</td>\n",
              "      <td>9176557</td>\n",
              "      <td>Milano</td>\n",
              "      <td>Via Cesare Cesariano, 6, 20154 Milano, Italia</td>\n",
              "      <td>2015-05-26 15:55:30.140</td>\n",
              "      <td>390893535033</td>\n",
              "      <td>...</td>\n",
              "      <td>5739</td>\n",
              "      <td>6</td>\n",
              "      <td>Starter</td>\n",
              "      <td>False</td>\n",
              "      <td>False</td>\n",
              "      <td>False</td>\n",
              "      <td>0,42</td>\n",
              "      <td>False</td>\n",
              "      <td>2022-12-08</td>\n",
              "      <td>2022-12-08</td>\n",
              "    </tr>\n",
              "    <tr>\n",
              "      <th>3</th>\n",
              "      <td>4530</td>\n",
              "      <td>True</td>\n",
              "      <td>Beauty Salon 4913</td>\n",
              "      <td>Company Beauty SL4913</td>\n",
              "      <td>4190835</td>\n",
              "      <td>1247793</td>\n",
              "      <td>Roma</td>\n",
              "      <td>Via di Gesù e Maria, 11, 00187 Roma, Italia</td>\n",
              "      <td>2015-07-26 20:19:06.437</td>\n",
              "      <td>390990838933</td>\n",
              "      <td>...</td>\n",
              "      <td>522</td>\n",
              "      <td>2</td>\n",
              "      <td>Starter</td>\n",
              "      <td>False</td>\n",
              "      <td>True</td>\n",
              "      <td>False</td>\n",
              "      <td>43,19</td>\n",
              "      <td>False</td>\n",
              "      <td>2022-12-02</td>\n",
              "      <td>2022-11-13</td>\n",
              "    </tr>\n",
              "    <tr>\n",
              "      <th>4</th>\n",
              "      <td>655</td>\n",
              "      <td>True</td>\n",
              "      <td>Beauty Salon 4323</td>\n",
              "      <td>Company Beauty SL4323</td>\n",
              "      <td>4181684</td>\n",
              "      <td>124466</td>\n",
              "      <td>Roma</td>\n",
              "      <td>Via del Pianeta Venere, 37, 00144 Roma, Italia</td>\n",
              "      <td>2016-01-08 16:51:04.105</td>\n",
              "      <td>390990998380</td>\n",
              "      <td>...</td>\n",
              "      <td>5647</td>\n",
              "      <td>4</td>\n",
              "      <td>Advanced</td>\n",
              "      <td>False</td>\n",
              "      <td>False</td>\n",
              "      <td>False</td>\n",
              "      <td>0,42</td>\n",
              "      <td>False</td>\n",
              "      <td>2022-12-08</td>\n",
              "      <td>2022-12-08</td>\n",
              "    </tr>\n",
              "  </tbody>\n",
              "</table>\n",
              "<p>5 rows × 23 columns</p>\n",
              "</div>\n",
              "    <div class=\"colab-df-buttons\">\n",
              "\n",
              "  <div class=\"colab-df-container\">\n",
              "    <button class=\"colab-df-convert\" onclick=\"convertToInteractive('df-37f7c352-cfbd-414f-bc83-abe576116a12')\"\n",
              "            title=\"Convert this dataframe to an interactive table.\"\n",
              "            style=\"display:none;\">\n",
              "\n",
              "  <svg xmlns=\"http://www.w3.org/2000/svg\" height=\"24px\" viewBox=\"0 -960 960 960\">\n",
              "    <path d=\"M120-120v-720h720v720H120Zm60-500h600v-160H180v160Zm220 220h160v-160H400v160Zm0 220h160v-160H400v160ZM180-400h160v-160H180v160Zm440 0h160v-160H620v160ZM180-180h160v-160H180v160Zm440 0h160v-160H620v160Z\"/>\n",
              "  </svg>\n",
              "    </button>\n",
              "\n",
              "  <style>\n",
              "    .colab-df-container {\n",
              "      display:flex;\n",
              "      gap: 12px;\n",
              "    }\n",
              "\n",
              "    .colab-df-convert {\n",
              "      background-color: #E8F0FE;\n",
              "      border: none;\n",
              "      border-radius: 50%;\n",
              "      cursor: pointer;\n",
              "      display: none;\n",
              "      fill: #1967D2;\n",
              "      height: 32px;\n",
              "      padding: 0 0 0 0;\n",
              "      width: 32px;\n",
              "    }\n",
              "\n",
              "    .colab-df-convert:hover {\n",
              "      background-color: #E2EBFA;\n",
              "      box-shadow: 0px 1px 2px rgba(60, 64, 67, 0.3), 0px 1px 3px 1px rgba(60, 64, 67, 0.15);\n",
              "      fill: #174EA6;\n",
              "    }\n",
              "\n",
              "    .colab-df-buttons div {\n",
              "      margin-bottom: 4px;\n",
              "    }\n",
              "\n",
              "    [theme=dark] .colab-df-convert {\n",
              "      background-color: #3B4455;\n",
              "      fill: #D2E3FC;\n",
              "    }\n",
              "\n",
              "    [theme=dark] .colab-df-convert:hover {\n",
              "      background-color: #434B5C;\n",
              "      box-shadow: 0px 1px 3px 1px rgba(0, 0, 0, 0.15);\n",
              "      filter: drop-shadow(0px 1px 2px rgba(0, 0, 0, 0.3));\n",
              "      fill: #FFFFFF;\n",
              "    }\n",
              "  </style>\n",
              "\n",
              "    <script>\n",
              "      const buttonEl =\n",
              "        document.querySelector('#df-37f7c352-cfbd-414f-bc83-abe576116a12 button.colab-df-convert');\n",
              "      buttonEl.style.display =\n",
              "        google.colab.kernel.accessAllowed ? 'block' : 'none';\n",
              "\n",
              "      async function convertToInteractive(key) {\n",
              "        const element = document.querySelector('#df-37f7c352-cfbd-414f-bc83-abe576116a12');\n",
              "        const dataTable =\n",
              "          await google.colab.kernel.invokeFunction('convertToInteractive',\n",
              "                                                    [key], {});\n",
              "        if (!dataTable) return;\n",
              "\n",
              "        const docLinkHtml = 'Like what you see? Visit the ' +\n",
              "          '<a target=\"_blank\" href=https://colab.research.google.com/notebooks/data_table.ipynb>data table notebook</a>'\n",
              "          + ' to learn more about interactive tables.';\n",
              "        element.innerHTML = '';\n",
              "        dataTable['output_type'] = 'display_data';\n",
              "        await google.colab.output.renderOutput(dataTable, element);\n",
              "        const docLink = document.createElement('div');\n",
              "        docLink.innerHTML = docLinkHtml;\n",
              "        element.appendChild(docLink);\n",
              "      }\n",
              "    </script>\n",
              "  </div>\n",
              "\n",
              "\n",
              "<div id=\"df-b0694153-2d2e-46ec-ac17-ff74769fbafb\">\n",
              "  <button class=\"colab-df-quickchart\" onclick=\"quickchart('df-b0694153-2d2e-46ec-ac17-ff74769fbafb')\"\n",
              "            title=\"Suggest charts\"\n",
              "            style=\"display:none;\">\n",
              "\n",
              "<svg xmlns=\"http://www.w3.org/2000/svg\" height=\"24px\"viewBox=\"0 0 24 24\"\n",
              "     width=\"24px\">\n",
              "    <g>\n",
              "        <path d=\"M19 3H5c-1.1 0-2 .9-2 2v14c0 1.1.9 2 2 2h14c1.1 0 2-.9 2-2V5c0-1.1-.9-2-2-2zM9 17H7v-7h2v7zm4 0h-2V7h2v10zm4 0h-2v-4h2v4z\"/>\n",
              "    </g>\n",
              "</svg>\n",
              "  </button>\n",
              "\n",
              "<style>\n",
              "  .colab-df-quickchart {\n",
              "      --bg-color: #E8F0FE;\n",
              "      --fill-color: #1967D2;\n",
              "      --hover-bg-color: #E2EBFA;\n",
              "      --hover-fill-color: #174EA6;\n",
              "      --disabled-fill-color: #AAA;\n",
              "      --disabled-bg-color: #DDD;\n",
              "  }\n",
              "\n",
              "  [theme=dark] .colab-df-quickchart {\n",
              "      --bg-color: #3B4455;\n",
              "      --fill-color: #D2E3FC;\n",
              "      --hover-bg-color: #434B5C;\n",
              "      --hover-fill-color: #FFFFFF;\n",
              "      --disabled-bg-color: #3B4455;\n",
              "      --disabled-fill-color: #666;\n",
              "  }\n",
              "\n",
              "  .colab-df-quickchart {\n",
              "    background-color: var(--bg-color);\n",
              "    border: none;\n",
              "    border-radius: 50%;\n",
              "    cursor: pointer;\n",
              "    display: none;\n",
              "    fill: var(--fill-color);\n",
              "    height: 32px;\n",
              "    padding: 0;\n",
              "    width: 32px;\n",
              "  }\n",
              "\n",
              "  .colab-df-quickchart:hover {\n",
              "    background-color: var(--hover-bg-color);\n",
              "    box-shadow: 0 1px 2px rgba(60, 64, 67, 0.3), 0 1px 3px 1px rgba(60, 64, 67, 0.15);\n",
              "    fill: var(--button-hover-fill-color);\n",
              "  }\n",
              "\n",
              "  .colab-df-quickchart-complete:disabled,\n",
              "  .colab-df-quickchart-complete:disabled:hover {\n",
              "    background-color: var(--disabled-bg-color);\n",
              "    fill: var(--disabled-fill-color);\n",
              "    box-shadow: none;\n",
              "  }\n",
              "\n",
              "  .colab-df-spinner {\n",
              "    border: 2px solid var(--fill-color);\n",
              "    border-color: transparent;\n",
              "    border-bottom-color: var(--fill-color);\n",
              "    animation:\n",
              "      spin 1s steps(1) infinite;\n",
              "  }\n",
              "\n",
              "  @keyframes spin {\n",
              "    0% {\n",
              "      border-color: transparent;\n",
              "      border-bottom-color: var(--fill-color);\n",
              "      border-left-color: var(--fill-color);\n",
              "    }\n",
              "    20% {\n",
              "      border-color: transparent;\n",
              "      border-left-color: var(--fill-color);\n",
              "      border-top-color: var(--fill-color);\n",
              "    }\n",
              "    30% {\n",
              "      border-color: transparent;\n",
              "      border-left-color: var(--fill-color);\n",
              "      border-top-color: var(--fill-color);\n",
              "      border-right-color: var(--fill-color);\n",
              "    }\n",
              "    40% {\n",
              "      border-color: transparent;\n",
              "      border-right-color: var(--fill-color);\n",
              "      border-top-color: var(--fill-color);\n",
              "    }\n",
              "    60% {\n",
              "      border-color: transparent;\n",
              "      border-right-color: var(--fill-color);\n",
              "    }\n",
              "    80% {\n",
              "      border-color: transparent;\n",
              "      border-right-color: var(--fill-color);\n",
              "      border-bottom-color: var(--fill-color);\n",
              "    }\n",
              "    90% {\n",
              "      border-color: transparent;\n",
              "      border-bottom-color: var(--fill-color);\n",
              "    }\n",
              "  }\n",
              "</style>\n",
              "\n",
              "  <script>\n",
              "    async function quickchart(key) {\n",
              "      const quickchartButtonEl =\n",
              "        document.querySelector('#' + key + ' button');\n",
              "      quickchartButtonEl.disabled = true;  // To prevent multiple clicks.\n",
              "      quickchartButtonEl.classList.add('colab-df-spinner');\n",
              "      try {\n",
              "        const charts = await google.colab.kernel.invokeFunction(\n",
              "            'suggestCharts', [key], {});\n",
              "      } catch (error) {\n",
              "        console.error('Error during call to suggestCharts:', error);\n",
              "      }\n",
              "      quickchartButtonEl.classList.remove('colab-df-spinner');\n",
              "      quickchartButtonEl.classList.add('colab-df-quickchart-complete');\n",
              "    }\n",
              "    (() => {\n",
              "      let quickchartButtonEl =\n",
              "        document.querySelector('#df-b0694153-2d2e-46ec-ac17-ff74769fbafb button');\n",
              "      quickchartButtonEl.style.display =\n",
              "        google.colab.kernel.accessAllowed ? 'block' : 'none';\n",
              "    })();\n",
              "  </script>\n",
              "</div>\n",
              "    </div>\n",
              "  </div>\n"
            ]
          },
          "metadata": {},
          "execution_count": 30
        }
      ]
    },
    {
      "cell_type": "code",
      "source": [
        "pip install pyspark"
      ],
      "metadata": {
        "colab": {
          "base_uri": "https://localhost:8080/"
        },
        "id": "QVKWfkFwaOY5",
        "outputId": "ebae328a-c44e-49cb-cbb3-10322dc9e1b6"
      },
      "execution_count": 40,
      "outputs": [
        {
          "output_type": "stream",
          "name": "stdout",
          "text": [
            "Requirement already satisfied: pyspark in /usr/local/lib/python3.10/dist-packages (3.5.0)\n",
            "Requirement already satisfied: py4j==0.10.9.7 in /usr/local/lib/python3.10/dist-packages (from pyspark) (0.10.9.7)\n"
          ]
        }
      ]
    },
    {
      "cell_type": "code",
      "source": [
        "import pyspark\n",
        "from pyspark.sql import SparkSession"
      ],
      "metadata": {
        "id": "NB9zIe3OacO1"
      },
      "execution_count": 41,
      "outputs": []
    },
    {
      "cell_type": "markdown",
      "source": [
        "# Nueva sección"
      ],
      "metadata": {
        "id": "am9VTAEAasuK"
      }
    },
    {
      "cell_type": "code",
      "source": [
        "from pyspark.sql import SparkSession"
      ],
      "metadata": {
        "id": "XylvlSGdbCKK"
      },
      "execution_count": 42,
      "outputs": []
    },
    {
      "cell_type": "code",
      "source": [
        "# Crear una sesión de Spark\n",
        "spark = SparkSession.builder.appName(\"mi_aplicacion\").getOrCreate()\n",
        "\n"
      ],
      "metadata": {
        "id": "ajw11-xnbfZ_"
      },
      "execution_count": 43,
      "outputs": []
    },
    {
      "cell_type": "code",
      "source": [
        "if 'año' in df.columns:\n",
        "    pass  # O realiza alguna acción específica aquí"
      ],
      "metadata": {
        "id": "MDnBchSwcJh2"
      },
      "execution_count": 46,
      "outputs": []
    },
    {
      "cell_type": "code",
      "source": [
        "from pyspark.ml.classification import LogisticRegression"
      ],
      "metadata": {
        "id": "w3Dj9sn5jrbW"
      },
      "execution_count": 47,
      "outputs": []
    },
    {
      "cell_type": "code",
      "source": [
        "from pyspark.sql import SparkSession\n",
        "from pyspark.ml.classification import LogisticRegression\n",
        "from pyspark.ml.feature import VectorAssembler\n",
        "from pyspark.ml import Pipeline"
      ],
      "metadata": {
        "id": "5HD8zbEulhQI"
      },
      "execution_count": 48,
      "outputs": []
    },
    {
      "cell_type": "code",
      "source": [
        "# Notebook de limpieza y ETL\n",
        "\n",
        "import pandas as pd\n",
        "from pyspark.sql import SparkSession\n",
        "spark = SparkSession.builder.getOrCreate()"
      ],
      "metadata": {
        "id": "Y7mt86h2l4Hj"
      },
      "execution_count": 49,
      "outputs": []
    },
    {
      "cell_type": "code",
      "source": [
        "df = spark.read.csv('/content/An-lisis-Datos/pedido_cliente_trealwell/Case Study - Project Specialist (1).xlsx')"
      ],
      "metadata": {
        "id": "BJJ0YbElm8Uv"
      },
      "execution_count": 50,
      "outputs": []
    },
    {
      "cell_type": "code",
      "source": [
        "# Eliminar filas con nulos\n",
        "df = df.na.drop()"
      ],
      "metadata": {
        "id": "5IK2wTR2nC1V"
      },
      "execution_count": 51,
      "outputs": []
    },
    {
      "cell_type": "code",
      "source": [
        "import matplotlib.pyplot as plt"
      ],
      "metadata": {
        "id": "JSqCPG3CnK1s"
      },
      "execution_count": 52,
      "outputs": []
    },
    {
      "cell_type": "code",
      "source": [
        "print(df.columns)"
      ],
      "metadata": {
        "colab": {
          "base_uri": "https://localhost:8080/"
        },
        "id": "VPPViTX7nYMb",
        "outputId": "c819c3b2-860d-4b28-acb3-7a8767264a04"
      },
      "execution_count": 53,
      "outputs": [
        {
          "output_type": "stream",
          "name": "stdout",
          "text": [
            "['_c0']\n"
          ]
        }
      ]
    },
    {
      "cell_type": "code",
      "source": [
        "# Importa las bibliotecas necesarias\n",
        "import pandas as pd\n",
        "import matplotlib.pyplot as plt\n",
        "\n"
      ],
      "metadata": {
        "id": "SkC8nVqdDZOo"
      },
      "execution_count": 56,
      "outputs": []
    },
    {
      "cell_type": "code",
      "source": [
        "import chardet\n"
      ],
      "metadata": {
        "id": "cT_U3KXnaSuB"
      },
      "execution_count": 57,
      "outputs": []
    },
    {
      "cell_type": "code",
      "source": [
        "with open('/content/An-lisis-Datos/pedido_cliente_trealwell/Case Study - Project Specialist (1).xlsx','rb' ) as f:\n",
        "    result = chardet.detect(f.read())"
      ],
      "metadata": {
        "id": "sVV_nvfzaYal"
      },
      "execution_count": 64,
      "outputs": []
    },
    {
      "cell_type": "code",
      "source": [
        "print(result)"
      ],
      "metadata": {
        "colab": {
          "base_uri": "https://localhost:8080/"
        },
        "id": "aAJIlWSzaZ0O",
        "outputId": "6cd256c7-b5ad-4fff-c0fa-e73f612fb120"
      },
      "execution_count": 66,
      "outputs": [
        {
          "output_type": "stream",
          "name": "stdout",
          "text": [
            "{'encoding': None, 'confidence': 0.0, 'language': None}\n"
          ]
        }
      ]
    },
    {
      "cell_type": "code",
      "source": [],
      "metadata": {
        "id": "X8l3mrCzaljk"
      },
      "execution_count": null,
      "outputs": []
    }
  ]
}