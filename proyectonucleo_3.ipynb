{
  "nbformat": 4,
  "nbformat_minor": 0,
  "metadata": {
    "colab": {
      "provenance": [],
      "authorship_tag": "ABX9TyMdwaaFGNBWPDR44oxpkDFb",
      "include_colab_link": true
    },
    "kernelspec": {
      "name": "python3",
      "display_name": "Python 3"
    },
    "language_info": {
      "name": "python"
    }
  },
  "cells": [
    {
      "cell_type": "markdown",
      "metadata": {
        "id": "view-in-github",
        "colab_type": "text"
      },
      "source": [
        "<a href=\"https://colab.research.google.com/github/LinaNontoa/bigdata-analisis/blob/main/proyectonucleo_3.ipynb\" target=\"_parent\"><img src=\"https://colab.research.google.com/assets/colab-badge.svg\" alt=\"Open In Colab\"/></a>"
      ]
    },
    {
      "cell_type": "code",
      "execution_count": 55,
      "metadata": {
        "id": "wk_Sc-VOzPIN"
      },
      "outputs": [],
      "source": [
        "#Data Streaming:\n",
        "\n",
        "\n",
        "#Ventaja de  los datos continuos  se pueden procesan en tiempo real en donde se puedan tomar  decisiones instantánea. Desventaja: Los datos en  tiempo real puede ser compleja en recursos.\n",
        "\n",
        "#Ventaja: de la escabailidad puede escalarse fácilmente al manejar grandes volúmenes de datos. Desventaja: Debe tener limitaciones dependiendo de la infraestructura en el sistema\n",
        "\n",
        "\n",
        "#Ventaja: Los fallos en el sistema de procesamiento suele tener mecanismos  lo que permite  garantizar la continuidad. Desventaja: La tolerancia  aumenta la complejidad\n",
        "\n",
        "\n",
        "#Ventaja: La baja latencia permite procesos rapidos, adecuado para aplicaciones  como ocurre con  el análisis de datos. Desventaja: La baja latencia puede requerir hardware aumentando  los costos.\n",
        "\n",
        "#Ventaja: Permite analizar patrones temporales y secuenciales en los datos, lo que es fundamental para aplicaciones como la predicción de series temporales. Desventaja: La complejidad del modelado temporal puede aumentar la carga computacional.\n",
        "\n",
        "#Procesamiento en Tiempo Real: Su ventaja es la capacidad de procesar y analizar los datos.\n",
        "\n",
        "#Toma de Decisiones Ágil: El procesamiento en tiempo real facilita la toma de decisiones rápidas  basadas en datos.\n",
        "\n",
        "#Detección Temprana de Problemas:  identifica patrones  de manera inmediata y permite  la detección de fraudes.\n"
      ]
    },
    {
      "cell_type": "code",
      "source": [
        "pip install pyspark"
      ],
      "metadata": {
        "colab": {
          "base_uri": "https://localhost:8080/"
        },
        "id": "QVKWfkFwaOY5",
        "outputId": "544c9497-2406-4576-c335-545a9b98763a"
      },
      "execution_count": 3,
      "outputs": [
        {
          "output_type": "stream",
          "name": "stdout",
          "text": [
            "Collecting pyspark\n",
            "  Downloading pyspark-3.5.0.tar.gz (316.9 MB)\n",
            "\u001b[2K     \u001b[90m━━━━━━━━━━━━━━━━━━━━━━━━━━━━━━━━━━━━━━━━\u001b[0m \u001b[32m316.9/316.9 MB\u001b[0m \u001b[31m4.2 MB/s\u001b[0m eta \u001b[36m0:00:00\u001b[0m\n",
            "\u001b[?25h  Preparing metadata (setup.py) ... \u001b[?25l\u001b[?25hdone\n",
            "Requirement already satisfied: py4j==0.10.9.7 in /usr/local/lib/python3.10/dist-packages (from pyspark) (0.10.9.7)\n",
            "Building wheels for collected packages: pyspark\n",
            "  Building wheel for pyspark (setup.py) ... \u001b[?25l\u001b[?25hdone\n",
            "  Created wheel for pyspark: filename=pyspark-3.5.0-py2.py3-none-any.whl size=317425345 sha256=65baa6e833817af291e047139ea3660d9296a65a23bb7fe73cd5ce8e9540a3b1\n",
            "  Stored in directory: /root/.cache/pip/wheels/41/4e/10/c2cf2467f71c678cfc8a6b9ac9241e5e44a01940da8fbb17fc\n",
            "Successfully built pyspark\n",
            "Installing collected packages: pyspark\n",
            "Successfully installed pyspark-3.5.0\n"
          ]
        }
      ]
    },
    {
      "cell_type": "code",
      "source": [
        "import pyspark\n",
        "from pyspark.sql import SparkSession"
      ],
      "metadata": {
        "id": "NB9zIe3OacO1"
      },
      "execution_count": 4,
      "outputs": []
    },
    {
      "cell_type": "markdown",
      "source": [
        "# Nueva sección"
      ],
      "metadata": {
        "id": "am9VTAEAasuK"
      }
    },
    {
      "cell_type": "code",
      "source": [
        "from pyspark.sql import SparkSession"
      ],
      "metadata": {
        "id": "XylvlSGdbCKK"
      },
      "execution_count": 6,
      "outputs": []
    },
    {
      "cell_type": "code",
      "source": [
        "# Crear una sesión de Spark\n",
        "spark = SparkSession.builder.appName(\"mi_aplicacion\").getOrCreate()\n",
        "\n"
      ],
      "metadata": {
        "id": "ajw11-xnbfZ_"
      },
      "execution_count": 11,
      "outputs": []
    },
    {
      "cell_type": "code",
      "source": [
        "# Leer el archivo CSV y crear un DataFrame\n",
        "df = spark.read.csv('/content/indicator.datos.csv', header=True, inferSchema=True)"
      ],
      "metadata": {
        "id": "WvRS9h0Gbua6"
      },
      "execution_count": 12,
      "outputs": []
    },
    {
      "cell_type": "code",
      "source": [
        "# Verificar las columnas disponibles en el DataFrame\n",
        "print(df.columns)"
      ],
      "metadata": {
        "colab": {
          "base_uri": "https://localhost:8080/"
        },
        "id": "-ZrNmJm2cH9x",
        "outputId": "1a433c1d-674a-419a-e82e-c2e44a7b62a4"
      },
      "execution_count": 15,
      "outputs": [
        {
          "output_type": "stream",
          "name": "stdout",
          "text": [
            "['Indicadores municipales de sostenibilidad: Poblaci�n de mas de 10 a�os que ha completado al menos Estudios Secundarios (%);;;;;;;;;;']\n"
          ]
        }
      ]
    },
    {
      "cell_type": "code",
      "source": [
        "if 'año' in df.columns:\n",
        "    pass  # O realiza alguna acción específica aquí"
      ],
      "metadata": {
        "id": "MDnBchSwcJh2"
      },
      "execution_count": 30,
      "outputs": []
    },
    {
      "cell_type": "code",
      "source": [
        "from pyspark.ml.classification import LogisticRegression"
      ],
      "metadata": {
        "id": "w3Dj9sn5jrbW"
      },
      "execution_count": 42,
      "outputs": []
    },
    {
      "cell_type": "code",
      "source": [
        "from pyspark.sql import SparkSession\n",
        "from pyspark.ml.classification import LogisticRegression\n",
        "from pyspark.ml.feature import VectorAssembler\n",
        "from pyspark.ml import Pipeline"
      ],
      "metadata": {
        "id": "5HD8zbEulhQI"
      },
      "execution_count": 44,
      "outputs": []
    },
    {
      "cell_type": "code",
      "source": [
        "# Notebook de limpieza y ETL\n",
        "\n",
        "import pandas as pd\n",
        "from pyspark.sql import SparkSession\n",
        "spark = SparkSession.builder.getOrCreate()"
      ],
      "metadata": {
        "id": "Y7mt86h2l4Hj"
      },
      "execution_count": 45,
      "outputs": []
    },
    {
      "cell_type": "code",
      "source": [
        "df = spark.read.csv('/content/indicator.datos.csv')"
      ],
      "metadata": {
        "id": "BJJ0YbElm8Uv"
      },
      "execution_count": 46,
      "outputs": []
    },
    {
      "cell_type": "code",
      "source": [
        "# Eliminar filas con nulos\n",
        "df = df.na.drop()"
      ],
      "metadata": {
        "id": "5IK2wTR2nC1V"
      },
      "execution_count": 47,
      "outputs": []
    },
    {
      "cell_type": "code",
      "source": [
        "import matplotlib.pyplot as plt"
      ],
      "metadata": {
        "id": "JSqCPG3CnK1s"
      },
      "execution_count": 48,
      "outputs": []
    },
    {
      "cell_type": "code",
      "source": [
        "print(df.columns)"
      ],
      "metadata": {
        "colab": {
          "base_uri": "https://localhost:8080/"
        },
        "id": "VPPViTX7nYMb",
        "outputId": "9e75b4b5-a1ec-47a9-e489-3dce905aaa8c"
      },
      "execution_count": 50,
      "outputs": [
        {
          "output_type": "stream",
          "name": "stdout",
          "text": [
            "['_c0']\n"
          ]
        }
      ]
    }
  ]
}